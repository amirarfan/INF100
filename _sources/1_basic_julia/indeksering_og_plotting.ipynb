{
 "cells": [
  {
   "cell_type": "markdown",
   "id": "063b052b",
   "metadata": {},
   "source": [
    "# Indeksering, håndtering av lister, og plotting i Julia\n",
    "\n",
    "I denne notatboken vil vi utforske hvordan vi kan indeksere og håndtere lister (vektorer) i Julia, samt hvordan vi kan visualisere data ved hjelp av plotting."
   ]
  },
  {
   "cell_type": "markdown",
   "id": "1b11f94f",
   "metadata": {},
   "source": [
    "## Indeksering\n",
    "\n",
    "I Julia starter indeksering fra 1. La oss se på hvordan vi kan indeksere elementer i en liste:"
   ]
  },
  {
   "cell_type": "code",
   "execution_count": null,
   "id": "6d751835",
   "metadata": {},
   "outputs": [],
   "source": [
    "liste = [10, 20, 30, 40, 50]\n",
    "println(liste[1])  # Første element\n",
    "println(liste[end])  # Siste element"
   ]
  },
  {
   "cell_type": "markdown",
   "id": "7b527e10",
   "metadata": {},
   "source": [
    "## Håndtering av lister\n",
    "\n",
    "La oss utforske noen grunnleggende operasjoner vi kan utføre på lister i Julia:"
   ]
  },
  {
   "cell_type": "code",
   "execution_count": null,
   "id": "a37b1858",
   "metadata": {},
   "outputs": [],
   "source": [
    "# Legge til et element på slutten av listen\n",
    "push!(liste, 60)\n",
    "\n",
    "# Fjerne siste element fra listen\n",
    "pop!(liste)\n",
    "\n",
    "# Legge til et element på en bestemt posisjon\n",
    "insert!(liste, 3, 25)  # Legger til 25 på tredje posisjon\n",
    "\n",
    "# Fjerne et element fra en bestemt posisjon\n",
    "deleteat!(liste, 3)\n",
    "\n",
    "liste"
   ]
  },
  {
   "cell_type": "markdown",
   "id": "7a8c7417",
   "metadata": {},
   "source": [
    "## Plotting\n",
    "\n",
    "Julia har flere biblioteker for plotting, men vi vil bruke `Plots` for denne demonstrasjonen. La oss se på hvordan vi kan lage enkelte plott:"
   ]
  },
  {
   "cell_type": "code",
   "execution_count": null,
   "id": "3afe84a9",
   "metadata": {},
   "outputs": [],
   "source": [
    "using Plots\n",
    "\n",
    "x = 1:10\n",
    "y = x.^2  # Kvadrerer hvert element i x\n",
    "\n",
    "plot(x, y, title=\"Enkel parabola\", xlabel=\"x-verdier\", ylabel=\"y-verdier\", legend=false)"
   ]
  },
  {
   "cell_type": "markdown",
   "id": "e2289ee4",
   "metadata": {},
   "source": [
    "## Oppsummering\n",
    "\n",
    "I denne notatboken har vi utforsket grunnleggende konsepter relatert til indeksering, håndtering av lister, og plotting i Julia. Disse konseptene er fundamentale for mange programmeringsoppgaver, så det er viktig å være komfortabel med dem. Fortsett å eksperimentere og utforske!"
   ]
  }
 ],
 "metadata": {
  "kernelspec": {
   "display_name": "Julia",
   "language": "julia",
   "name": "julia-1.9"
  },
  "language_info": {
   "codemirror_mode": {
    "name": "julia",
    "version": 1.9
   },
   "file_extension": ".jl",
   "mimetype": "application/julia",
   "name": "julia",
   "version": "1.9"
  }
 },
 "nbformat": 4,
 "nbformat_minor": 5
}
