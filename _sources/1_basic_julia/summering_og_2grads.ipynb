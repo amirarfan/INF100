{
 "cells": [
  {
   "cell_type": "markdown",
   "metadata": {},
   "source": [
    "# Summering, lister av tall, og løsning av 2. grads likninger (Forelesningen 14 sept 2023)\n",
    "I denne notatboken vil vi utforske grunnleggende konsepter i programmering ved hjelp av Julia-språket. Vi vil fokusere på summering av tall ved hjelp av FOR-løkker, arbeide med lister av tall, og til slutt løse 2. grads likninger."
   ]
  },
  {
   "cell_type": "markdown",
   "metadata": {},
   "source": [
    "## Summering av tall ved hjelp av FOR-løkker\n",
    "La oss først se på hvordan vi kan summere tall fra 1 til n ved hjelp av en FOR-løkke:"
   ]
  },
  {
   "cell_type": "code",
   "execution_count": null,
   "metadata": {},
   "outputs": [],
   "source": [
    "n = 14\n",
    "summen = 0\n",
    "for i = 1:n\n",
    "    summen += i\n",
    "end\n",
    "summen"
   ]
  },
  {
   "cell_type": "markdown",
   "metadata": {},
   "source": [
    "Vi kan også benytte en kjent formel for å finne summen av tallene fra 1 til n, som er \\( \\frac{n(n+1)}{2} \\)."
   ]
  },
  {
   "cell_type": "code",
   "execution_count": null,
   "metadata": {},
   "outputs": [],
   "source": [
    "sjekksummen = n*(n+1)/2\n",
    "sjekksummen"
   ]
  },
  {
   "cell_type": "markdown",
   "metadata": {},
   "source": [
    "## Arbeide med lister av tall\n",
    "I Julia kan vi enkelt generere lister (eller vektorer) av tall med likt mellomrom. La oss utforske dette:"
   ]
  },
  {
   "cell_type": "code",
   "execution_count": null,
   "metadata": {},
   "outputs": [],
   "source": [
    "l = 1:10\n",
    "l2 = 0:2:10\n",
    "l3 = 1.0:-0.2:0\n",
    "l, l2, l3"
   ]
  },
  {
   "cell_type": "markdown",
   "metadata": {},
   "source": [
    "## Generere en liste med tilfeldige tall\n",
    "Julia gir oss muligheten til å generere lister med tilfeldige tall. La oss generere en liste med 60 tilfeldige tall mellom 0 og 1:"
   ]
  },
  {
   "cell_type": "code",
   "execution_count": null,
   "metadata": {},
   "outputs": [],
   "source": [
    "using Plots\n",
    "\n",
    "n = 60\n",
    "L = rand(n)\n",
    "plot(1:n, L, marker=:circle, legend=false, title=\"Plott av noen tilfeldige tall\", xlabel=\"verdier fra 1 til n\", ylabel=\"de n tilfeldige verdiene\", grid=true)"
   ]
  },
  {
   "cell_type": "markdown",
   "metadata": {},
   "source": [
    "## Løse 2. grads likninger\n",
    "En 2. grads likning har formen \\( ax^2 + bx + c = 0 \\). La oss lage et program som løser slike likninger basert på verdiene av a, b, og c:"
   ]
  },
  {
   "cell_type": "code",
   "execution_count": null,
   "metadata": {},
   "outputs": [],
   "source": [
    "a = 1; b = 2; c= 1\n",
    "d = b^2 - 4*a*c\n",
    "\n",
    "if d < 0\n",
    "    println(\"Dette er et 2.grads polynom uten nullpunkter\")\n",
    "elseif d == 0\n",
    "    r1 = -b/(2*a)\n",
    "    println(\"Dette er et 2.grads polynom med et nullpunkt: \", r1)\n",
    "else\n",
    "    r1 = (-b - sqrt(d))/(2*a)\n",
    "    r2 = (-b + sqrt(d))/(2*a)\n",
    "    println(\"Dette er et 2.grads polynom med to nullpunkter: \", r1, \" og \", r2)\n",
    "end"
   ]
  },
  {
   "cell_type": "markdown",
   "metadata": {},
   "source": [
    "## Oppsummering\n",
    "I denne notatboken har vi utforsket grunnleggende konsepter i programmering med Julia, inkludert summering av tall, arbeid med lister, generering av tilfeldige tall, og løsning av 2. grads likninger. Fortsett å eksperimentere med koden for å forstå konseptene dypere!"
   ]
  }
 ],
 "metadata": {
  "kernelspec": {
   "display_name": "Julia",
   "language": "julia",
   "name": "julia-1.9"
  },
  "language_info": {
   "codemirror_mode": {
    "name": "julia",
    "version": 1.9
   },
   "file_extension": ".jl",
   "mimetype": "application/julia",
   "name": "julia",
   "version": "1.9"
  }
 },
 "nbformat": 4,
 "nbformat_minor": 5
}
