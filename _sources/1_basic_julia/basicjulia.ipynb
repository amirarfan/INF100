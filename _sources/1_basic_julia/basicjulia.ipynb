{
 "cells": [
  {
   "cell_type": "markdown",
   "id": "ad998e3f",
   "metadata": {},
   "source": [
    "# Grunnleggende Julia\n",
    "\n",
    "Velkommen til en introduksjon til programmeringsspråket Julia! Denne notatboken vil gi deg en grunnleggende forståelse av noen av de viktigste konseptene i programmering ved hjelp av Julia."
   ]
  },
  {
   "cell_type": "markdown",
   "id": "1580e940",
   "metadata": {},
   "source": [
    "## Datatyper\n",
    "\n",
    "I programmering bruker vi forskjellige datatyper for å representere ulike typer informasjon. Julia har flere innebygde datatyper. La oss utforske noen av dem."
   ]
  },
  {
   "cell_type": "markdown",
   "id": "90ba6d83",
   "metadata": {},
   "source": [
    "### Heltall (`Int`)\n",
    "\n",
    "Heltall er tall uten desimaler. I Julia kan du opprette et heltall ved ganske enkelt å skrive tallet uten noen desimalpunkt:"
   ]
  },
  {
   "cell_type": "code",
   "execution_count": null,
   "id": "7c773530",
   "metadata": {},
   "outputs": [],
   "source": [
    "heltall = 42\n",
    "println(heltall)"
   ]
  },
  {
   "cell_type": "markdown",
   "id": "ec002d96",
   "metadata": {},
   "source": [
    "### Flyttall (`Float64`)\n",
    "\n",
    "Flyttall er tall med desimaler. De gir mer presisjon enn heltall, spesielt når du jobber med beregninger som involverer fraksjoner:"
   ]
  },
  {
   "cell_type": "code",
   "execution_count": null,
   "id": "01d43165",
   "metadata": {},
   "outputs": [],
   "source": [
    "flyttall = 3.14\n",
    "println(flyttall)"
   ]
  },
  {
   "cell_type": "markdown",
   "id": "36cd6d91",
   "metadata": {},
   "source": [
    "### Strenger (`String`)\n",
    "\n",
    "Strenger brukes for å representere tekst. I Julia oppretter du en streng ved å omslutte teksten med doble anførselstegn:"
   ]
  },
  {
   "cell_type": "code",
   "execution_count": null,
   "id": "8ff49378",
   "metadata": {},
   "outputs": [],
   "source": [
    "tekst = \"Hei, verden!\"\n",
    "println(tekst)"
   ]
  },
  {
   "cell_type": "markdown",
   "id": "96693523",
   "metadata": {},
   "source": [
    "## Utskrift\n",
    "\n",
    "Å kunne vise verdier og meldinger er viktig når du programmerer. I Julia bruker vi `println` funksjonen for dette. Du har allerede sett noen eksempler på dette ovenfor!"
   ]
  },
  {
   "cell_type": "markdown",
   "id": "b9680276",
   "metadata": {},
   "source": [
    "### Interpolering\n",
    "\n",
    "Noen ganger ønsker du å inkludere verdien av en variabel inne i en streng. Dette kalles strenginterpolering. I Julia kan du gjøre dette ved å bruke `$` før variabelnavnet inne i en streng:"
   ]
  },
  {
   "cell_type": "code",
   "execution_count": null,
   "id": "0d658542",
   "metadata": {},
   "outputs": [],
   "source": [
    "navn = \"Ola\"\n",
    "println(\"Hei, $navn ! Hvordan har du det?\")"
   ]
  },
  {
   "cell_type": "markdown",
   "id": "d0d422ea",
   "metadata": {},
   "source": [
    "## Betingelser (`if`)\n",
    "\n",
    "Betingelser lar oss ta beslutninger i koden vår. Hvis en betingelse er sann, kan vi utføre en handling, ellers kan vi utføre en annen handling. Her er et eksempel:"
   ]
  },
  {
   "cell_type": "code",
   "execution_count": null,
   "id": "1019ab0d",
   "metadata": {},
   "outputs": [],
   "source": [
    "alder = 18\n",
    "\n",
    "if alder >= 18\n",
    "    println(\"Du er gammel nok til å stemme!\")\n",
    "else\n",
    "    println(\"Du er ikke gammel nok til å stemme ennå.\")\n",
    "end"
   ]
  },
  {
   "cell_type": "markdown",
   "id": "4752bb4f",
   "metadata": {},
   "source": [
    "## Løkker\n",
    "\n",
    "Løkker lar oss gjenta en handling flere ganger. Dette er spesielt nyttig når vi ønsker å utføre en oppgave mange ganger uten å skrive den samme koden om og om igjen."
   ]
  },
  {
   "cell_type": "markdown",
   "id": "25fc9ca7",
   "metadata": {},
   "source": [
    "### `while`-løkke\n",
    "\n",
    "En `while`-løkke utfører en handling så lenge en betingelse er sann. Her er et eksempel der vi teller opp fra 1 til 5:"
   ]
  },
  {
   "cell_type": "code",
   "execution_count": null,
   "id": "c2871c2b",
   "metadata": {},
   "outputs": [],
   "source": [
    "teller = 1\n",
    "\n",
    "while teller <= 5\n",
    "    println(teller)\n",
    "    teller += 1\n",
    "end"
   ]
  },
  {
   "cell_type": "markdown",
   "id": "ab3d0414",
   "metadata": {},
   "source": [
    "### `for`-løkke\n",
    "\n",
    "En `for`-løkke lar oss gjenta en handling et bestemt antall ganger. Her er et eksempel der vi teller opp fra 1 til 5 ved hjelp av en `for`-løkke:"
   ]
  },
  {
   "cell_type": "code",
   "execution_count": null,
   "id": "5f5880ba",
   "metadata": {},
   "outputs": [],
   "source": [
    "for i in 1:5\n",
    "    println(i)\n",
    "end"
   ]
  },
  {
   "cell_type": "markdown",
   "id": "9d989940",
   "metadata": {},
   "source": [
    "## Oppsummering\n",
    "\n",
    "Gratulerer! Du har nå en grunnleggende forståelse av noen av de viktigste konseptene i programmering med Julia. Det er selvfølgelig mye mer å lære, men dette gir deg en god start. "
   ]
  }
 ],
 "metadata": {
  "kernelspec": {
   "display_name": "Julia",
   "language": "julia",
   "name": "julia-1.9"
  },
  "language_info": {
   "codemirror_mode": {
    "name": "julia",
    "version": 1.9
   },
   "file_extension": ".jl",
   "mimetype": "application/julia",
   "name": "julia",
   "version": "1.9"
  }
 },
 "nbformat": 4,
 "nbformat_minor": 5
}
