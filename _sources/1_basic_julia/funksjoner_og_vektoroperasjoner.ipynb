{
 "cells": [
  {
   "cell_type": "markdown",
   "id": "99f234ee",
   "metadata": {},
   "source": [
    "# Forelesning om Julia: Funksjoner, '.' Operatoren og Nyttige Ting"
   ]
  },
  {
   "cell_type": "markdown",
   "id": "f5854c20",
   "metadata": {},
   "source": [
    "## Del 1: Funksjoner i Julia"
   ]
  },
  {
   "cell_type": "code",
   "execution_count": 1,
   "id": "554fdb93",
   "metadata": {},
   "outputs": [],
   "source": [
    "# Vanlig funksjonsdefinisjon\n",
    "function add(x, y)\n",
    "    return x + y\n",
    "end\n",
    "\n",
    "# Bruk av funksjonen\n",
    "add(5, 3)"
   ]
  },
  {
   "cell_type": "code",
   "execution_count": 2,
   "id": "d4cc5473",
   "metadata": {},
   "outputs": [],
   "source": [
    "# Anonyme funksjoner\n",
    "add_anon = (x, y) -> x + y\n",
    "\n",
    "# Bruk av anonym funksjon\n",
    "add_anon(5, 3)"
   ]
  },
  {
   "cell_type": "code",
   "execution_count": 12,
   "id": "140162a2",
   "metadata": {},
   "outputs": [
    {
     "data": {
      "text/plain": [
       "8"
      ]
     },
     "metadata": {},
     "output_type": "display_data"
    }
   ],
   "source": [
    "add_oneliner(x,y) = x +y\n",
    "\n",
    "add_oneliner(5,3)"
   ]
  },
  {
   "cell_type": "markdown",
   "id": "321f1dd3",
   "metadata": {},
   "source": [
    "## Del 2: '.' Operatoren i Julia"
   ]
  },
  {
   "cell_type": "code",
   "execution_count": 3,
   "id": "0b77155e",
   "metadata": {},
   "outputs": [],
   "source": [
    "# Definere en vektor\n",
    "vec = [1, 2, 3, 4]\n",
    "\n",
    "# Bruke .+ for elementvis addering\n",
    "vec .+ 1"
   ]
  },
  {
   "cell_type": "markdown",
   "id": "2cd26d7b",
   "metadata": {},
   "source": [
    "### Når og Hvorfor Bruke '.'"
   ]
  },
  {
   "cell_type": "markdown",
   "id": "a1c7796e",
   "metadata": {},
   "source": [
    "Bruk '.' for elementvis operasjoner på vektorer og matriser. Det er optimalisert for ytelse og lar deg utføre operasjoner uten å bruke løkker.\n",
    "\n",
    "Unngå '.' hvis du ikke har behov for elementvis operasjoner, da det kan gjøre koden mindre lesbar."
   ]
  },
  {
   "cell_type": "code",
   "execution_count": 14,
   "id": "5e2b1515",
   "metadata": {},
   "outputs": [
    {
     "data": {
      "text/plain": [
       "4-element Vector{Int64}:\n",
       " 5\n",
       " 6\n",
       " 7\n",
       " 8"
      ]
     },
     "metadata": {},
     "output_type": "display_data"
    }
   ],
   "source": [
    "vec2 = [5, 6, 7, 8]"
   ]
  },
  {
   "cell_type": "code",
   "execution_count": 16,
   "id": "70bf71bf",
   "metadata": {},
   "outputs": [
    {
     "data": {
      "text/plain": [
       "4-element Vector{Int64}:\n",
       "  6\n",
       "  8\n",
       " 10\n",
       " 12"
      ]
     },
     "metadata": {},
     "output_type": "display_data"
    }
   ],
   "source": [
    "vec .+ vec2"
   ]
  },
  {
   "cell_type": "code",
   "execution_count": 17,
   "id": "7264c6c3",
   "metadata": {},
   "outputs": [
    {
     "data": {
      "text/plain": [
       "4-element Vector{Int64}:\n",
       "  6\n",
       "  8\n",
       " 10\n",
       " 12"
      ]
     },
     "metadata": {},
     "output_type": "display_data"
    }
   ],
   "source": [
    "vec + vec2"
   ]
  },
  {
   "cell_type": "markdown",
   "id": "7b008286",
   "metadata": {},
   "source": [
    "**Spesielt nyttig når du har nested vektorer**"
   ]
  },
  {
   "cell_type": "code",
   "execution_count": 25,
   "id": "2e4cc1dd",
   "metadata": {},
   "outputs": [
    {
     "data": {
      "text/plain": [
       "2-element Vector{Vector{Int64}}:\n",
       " [1, 2, 3, 4]\n",
       " [4, 5, 6, 7]"
      ]
     },
     "metadata": {},
     "output_type": "display_data"
    }
   ],
   "source": [
    "nested_vec = [[1, 2, 3, 4], [4, 5, 6, 7]]"
   ]
  },
  {
   "cell_type": "code",
   "execution_count": 30,
   "id": "8f39abf3",
   "metadata": {},
   "outputs": [
    {
     "data": {
      "text/plain": [
       "4-element Vector{Int64}:\n",
       "  5\n",
       "  7\n",
       "  9\n",
       " 11"
      ]
     },
     "metadata": {},
     "output_type": "display_data"
    }
   ],
   "source": [
    "sum(nested_vec)"
   ]
  },
  {
   "cell_type": "code",
   "execution_count": 31,
   "id": "b2892f5e",
   "metadata": {},
   "outputs": [
    {
     "data": {
      "text/plain": [
       "2-element Vector{Int64}:\n",
       " 10\n",
       " 22"
      ]
     },
     "metadata": {},
     "output_type": "display_data"
    }
   ],
   "source": [
    "sum.(nested_vec)"
   ]
  },
  {
   "cell_type": "markdown",
   "id": "d442fed2",
   "metadata": {},
   "source": [
    "## Del 3:  Nyttige ting"
   ]
  },
  {
   "cell_type": "code",
   "execution_count": 32,
   "id": "d492115a",
   "metadata": {},
   "outputs": [
    {
     "data": {
      "text/plain": [
       "(8, 2)"
      ]
     },
     "metadata": {},
     "output_type": "display_data"
    }
   ],
   "source": [
    "# Multiple return verdier\n",
    "function compute(x, y)\n",
    "    sum = x + y\n",
    "    diff = x - y\n",
    "    return sum, diff\n",
    "end\n",
    "\n",
    "s, d = compute(5, 3)"
   ]
  },
  {
   "cell_type": "code",
   "execution_count": 33,
   "id": "d2851ade",
   "metadata": {},
   "outputs": [
    {
     "data": {
      "text/plain": [
       "5-element Vector{Int64}:\n",
       "  1\n",
       "  4\n",
       "  9\n",
       " 16\n",
       " 25"
      ]
     },
     "metadata": {},
     "output_type": "display_data"
    }
   ],
   "source": [
    "# List Comprehension\n",
    "squared = [x^2 for x in 1:5]"
   ]
  },
  {
   "cell_type": "code",
   "execution_count": 37,
   "id": "17866227",
   "metadata": {},
   "outputs": [
    {
     "data": {
      "text/plain": [
       "3-element Vector{Float64}:\n",
       " 0.25\n",
       " 0.4\n",
       " 0.5"
      ]
     },
     "metadata": {},
     "output_type": "display_data"
    }
   ],
   "source": [
    "# Bruke en funksjon som heter dividetwovectors definert i en annen fil \"myfunction.jl\"\n",
    "include(\"myfunction.jl\")\n",
    "\n",
    "# Følgende funksjon er definert i en myfunction.jl\n",
    "\"\"\"\n",
    "function dividetwovectors(a,b)\n",
    "    return a ./ b\n",
    "end\n",
    "\"\"\"\n",
    "\n",
    "dividetwovectors([1, 2, 3], [4, 5, 6])\n"
   ]
  }
 ],
 "metadata": {
  "kernelspec": {
   "display_name": "Julia 1.9.3",
   "language": "julia",
   "name": "julia-1.9"
  },
  "language_info": {
   "file_extension": ".jl",
   "mimetype": "application/julia",
   "name": "julia",
   "version": "1.9.3"
  }
 },
 "nbformat": 4,
 "nbformat_minor": 5
}
