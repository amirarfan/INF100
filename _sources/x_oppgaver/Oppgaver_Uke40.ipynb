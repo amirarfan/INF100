{
 "cells": [
  {
   "cell_type": "markdown",
   "metadata": {},
   "source": [
    "# Oppgaver Uke 40 - Studieuke"
   ]
  },
  {
   "cell_type": "markdown",
   "metadata": {},
   "source": [
    "Oppgavene her er ment til å løses over lenger tid, og er ikke nødvendigvis ment til å løses i løpet av en uke."
   ]
  },
  {
   "cell_type": "markdown",
   "metadata": {},
   "source": [
    "## Oppgave 1-3: Bruk av for løkker, if setninger og while løkker\n",
    "\n",
    "### Oppgave 1: For løkker:\n",
    "\n",
    "* Skriv en for-løkke som summerer tallene fra 1 til 100 og skriver ut summen.\n",
    "* Formel: $S = \\sum_{i=1}^{100} i = 1 + 2 + 3 + \\dots + 100$\n",
    "\n",
    "### Oppgave 2: If setninger:\n",
    "\n",
    "* Lag en funksjon som tar et tall `dittTall` som input og skriver ut om tallet er positivt, negativt eller null.\n",
    "\n",
    "### Oppgave 3: While løkker:\n",
    "* Skriv en `while`-løkke som finner summen av tallene fra 1 til n, der n er et tall som brukeren oppgir.\n",
    "* Hvis summen av tallene blir større enn 100, skal løkken avsluttes.  (Hint: `break`)"
   ]
  },
  {
   "cell_type": "markdown",
   "metadata": {},
   "source": [
    "## Oppgave 4-6: Bruk av lister (Arrays)\n",
    "\n",
    "### Oppgave 4: Enkel liste manipulasjon:\n",
    "\n",
    "* Lag en liste med de 10 første positive heltallene (`int`)\n",
    "* Skriv en `for`-løkke som skriver ut hvert element i listen.\n",
    "* Bruk en annen `for`-løkke til å printe ut hvert tall i listen som er større enn 5. (Hint: `if`)\n",
    "\n",
    "### Oppgave 5: Liste med Økonomiske Data:\n",
    "\n",
    "* Lag en liste med følgende 12 inntekstall (i tusen kr): 500, 550, 600, 650, 700, 750, 800, 850, 900, 950, 1000, 1050.\n",
    "* Stokk om på listen slik at den er i tilfeldig rekkefølge. (Hint: `random.shuffle()`)\n",
    "* Beregn og print ut gjennomsnittsintekkten.\n",
    "* Finn og skriv ut den høyeste og laveste inntekten i listen. (Hint: `max()` og `min()`)\n",
    "\n",
    "### Oppgave 6: Liste og Funksjoner:\n",
    "\n",
    "* Skriv en funksjon som tar en liste med tall og returnerer en ny liste der hvert element er kvadratroten av elementet i den opprinnelige listen. (Hint: `sqrt()`)\n",
    "* Test funksjonen din med en liste av de 10 første positive heltallene."
   ]
  },
  {
   "cell_type": "markdown",
   "metadata": {},
   "source": [
    "## Oppgave 7-9: Plotting av matematiskke funksjoner\n",
    "\n",
    "### Oppgave 7: Plotting  av linear funksjon:\n",
    "* Plot funksjonen $f(x) = 2x + 1$ for $x \\in [-5, 5]$.\n",
    "\n",
    "### Oppgave 8: Plotting av kvadratisk funksjon:\n",
    "* Plot funksjonen $f(x) = x^2$ for $x \\in [-5, 5]$.\n",
    "\n",
    "### Oppgave 9: Plotting av sinus og eksponentiell funksjon i samme plot:\n",
    "* Plot funksjonen $f(x) = \\sin(x)$ for $x \\in [-2\\pi, 2\\pi]$.\n",
    "* Plot funksjonen $f(x) = e^x$ for $x \\in [-2\\pi, 2\\pi]$.\n",
    "* Hint: For å plotte i samme plot i Julia kan du bruke `plot!(x,y)`."
   ]
  },
  {
   "cell_type": "markdown",
   "metadata": {},
   "source": [
    "## Oppgave 10-12: Logaritmisk og Eksponentiell Vekst\n",
    "\n",
    "### Oppgave 10: Eksponentiell vekst:\n",
    "* Beregn og plot eksponentiell vekst med formelen $A=P(1+r)t$, der $P=1000$, $r=0.05$ og $t$ varierer fra 0 til 20.\n",
    "* Hva skjer med veksten når $r$ endres til 0.1 og 0.2?\n",
    "\n",
    "### Oppgave 11: Logaritmisk vekst:\n",
    "* Skriv en funksjon som beregner logaritmisk vekst og bruk den til å plotte veksten med base 10 for tallene fra 1 til 10000. (Hint: `log10()`)\n",
    "\n",
    "### Oppgave 12: Sammenligning\n",
    "* Plot eksponentiell og logaritmisk vekst i samme plot.\n",
    "* Sammenglign og diskuter forskjellene mellom logaritmisk og eksponentiell vekst. "
   ]
  },
  {
   "cell_type": "markdown",
   "metadata": {},
   "source": [
    "## Oppgave 13-15: Etterspørsel og Tilbud\n",
    "\n",
    "### Oppgave 13 Etterspørselsfunksjon:\n",
    "* Gitt etterspørselskurven $Q_d = 50 - 2P$, beregn og plott etterspøselen for priser fra 0 til 25 kroner.\n",
    "\n",
    "### Oppgave 14 Tilbudskurve:\n",
    "* Gitt tilbudskurven $Q_s = -10 + 3P$, beregn og plott tilbudet for priser fra 0 til 25 kroner.\n",
    "\n",
    "### Oppgave 15 Markedslikevekt:\n",
    "* Finn og diskuter markedslikevekten ved å sette etterspørselfunksjonen lik tilbudsfunksjonen og løse for P."
   ]
  },
  {
   "cell_type": "markdown",
   "metadata": {},
   "source": [
    "## Oppgave 16-18: Funksjoner\n",
    "\n",
    "### Oppgave 16 Funksjon:\n",
    "\n",
    "* Skriv en funksjon tar et beløp i norske kroner (NOK) som input og returnerer beløpet i amerikanske dollar (USD). (Hint: Anta at 1 NOK = 0.12 USD)\n",
    "    * Bonus: Klarer du å skrive funksjonen slik at den kan hente valutakursen dynamisk fra en nettside? (Vanskelig)\n",
    "\n",
    "### Oppgave 17 Rentesats:\n",
    "* Skriv en funksjon som tar startkapital, årlig rentesats og antall år som parametere. Funksjonen skal returnere totalbeløpet etter det gitte antallet år med den angitte rentesatsen. Bruk denne formelen: $A=P(1+r)n$. Fungerende funksjon kan se slik ut:\n",
    "```julia\n",
    "function rente(P, r, n)\n",
    "    # Beregn og returner totalbeløpet\n",
    "end\n",
    "```\n",
    "\n",
    "### Oppgave 18 Avansert Problem:\n",
    "\n",
    "* Du er nå økonomisk rådgiver for et selskap. Bedriften vurderer å investere i et prosjekt som krever en initial investering på 1 000 000 kr. Prosjektet er ventet å generere inntekter på 300 000 kr per år i 5 år. Selskapet bruker en diskonteringsrente på 5%.\n",
    "\n",
    "1. Skriv en funksjon som beregner nåverdien av prosjektet. (Hint: $NPV = \\sum_{t=1}^{n} \\frac{R_t}{(1+r)^t}$, hvor $R_t$ er inntekten i år $t$ og $r$ er diskonteringsrenten. I dette tilfellet er $n=5$)\n",
    "2. Bruk funksjonen til å beregne NPV for prosjektet ovenfor, hva er din anbefaling til selskapet basdert på NPV-beregningen?\n",
    "3. Hvordan endrer NPV seg hvis inntektene fra prosjektet øker til 400 000 kr per år? (Hint: Bruk funksjonen din)\n",
    "\n"
   ]
  },
  {
   "cell_type": "markdown",
   "metadata": {},
   "source": [
    "## Bonus Oppgave for spesielt interesserte:\n",
    "\n",
    "### Lag et Mandelbrot-bilde:\n",
    "\n",
    "* Lag et Mandelbrot-bilde, som er et fraktal generert av en enkel iterasjon av en funksjon. Se [Wikipedia](https://en.wikipedia.org/wiki/Mandelbrot_set) for mer informasjon.\n",
    "* Vis bildet frem ved å bruke heatmap eller lignende.\n",
    "\n",
    "### Utvid Gjett-tallet spillet:\n",
    "\n",
    "* Utvid gjett-tallet spillet til å ha en motstander, motstanderen skal være PC-en, dere begge rullerer på å gjette tall, og den som gjetter riktig først vinner.\n",
    "    * Vanskelighetsgrad 1: PC-en gjetter tilfeldige tall.\n",
    "    * Vanskelighetsgrad 2: PC-en gjetter tall basert på en algoritme (Hint: Algoritmen kan være å gjette midt mellom det høyeste og laveste tallet som er gjettet så langt).\n",
    "    * Vanskelighetsgrad 3: PC-en gjetter tall basert på en algoritme som er optimal i forhold til å gjette riktig på færrest mulig forsøk. (Hint: Sjekk ut [Binary Search](https://en.wikipedia.org/wiki/Binary_search_algorithm))\n",
    "    "
   ]
  }
 ],
 "metadata": {
  "kernelspec": {
   "display_name": "Julia 1.9.3",
   "language": "julia",
   "name": "julia-1.9"
  },
  "language_info": {
   "file_extension": ".jl",
   "mimetype": "application/julia",
   "name": "julia",
   "version": "1.9.3"
  },
  "orig_nbformat": 4
 },
 "nbformat": 4,
 "nbformat_minor": 2
}
