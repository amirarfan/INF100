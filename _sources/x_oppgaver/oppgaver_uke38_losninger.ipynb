{
 "cells": [
  {
   "cell_type": "markdown",
   "metadata": {},
   "source": [
    "# Løsningsforslag Oppgaver Uke 38"
   ]
  },
  {
   "cell_type": "markdown",
   "metadata": {},
   "source": [
    "## Oppgave 1"
   ]
  },
  {
   "cell_type": "code",
   "execution_count": 4,
   "metadata": {},
   "outputs": [
    {
     "data": {
      "text/plain": [
       "32-element Vector{Float64}:\n",
       " NaN\n",
       "   0.9999824207972676\n",
       "   0.9997187550056074\n",
       "   0.9985766852124539\n",
       "   0.9955057722712737\n",
       "   0.9890490982030683\n",
       "   0.9773724436016658\n",
       "   0.9583233521221498\n",
       "   0.9295347090730307\n",
       "   0.8885879537943828\n",
       "   ⋮\n",
       "  -0.1383175639677484\n",
       "  -0.06074828291171684\n",
       "   0.021068683147369788\n",
       "   0.08824713637286206\n",
       "   0.12466924683209676\n",
       "   0.12177413303791788\n",
       "   0.08204698297529345\n",
       "   0.01954476549190866\n",
       "  -0.04359862862918773"
      ]
     },
     "metadata": {},
     "output_type": "display_data"
    }
   ],
   "source": [
    "t = 1:1:10\n",
    "theta = range(0, stop=π, length=32)\n",
    "x = 2 .* sin.(theta)\n",
    "y = (t .- 1) / (t .+ 1)\n",
    "z = sin.(theta.^2) ./ (theta.^2)\n"
   ]
  },
  {
   "cell_type": "markdown",
   "metadata": {},
   "source": [
    "## Oppgave 2"
   ]
  },
  {
   "cell_type": "code",
   "execution_count": 5,
   "metadata": {},
   "outputs": [
    {
     "data": {
      "text/plain": [
       "10-element Vector{Float64}:\n",
       " 5.71387791263747\n",
       " 5.498925716214068\n",
       " 5.335075097658197\n",
       " 5.207864927028417\n",
       " 5.107577548970522\n",
       " 5.027486163025693\n",
       " 4.9628157011931755\n",
       " 4.9101024394581145\n",
       " 4.866786149785326\n",
       " 4.830942882731005"
      ]
     },
     "metadata": {},
     "output_type": "display_data"
    }
   ],
   "source": [
    "x_values = 0.45:0.05:0.90\n",
    "K = [(1.2/x) * (sqrt(16x^2 + 1) + (1/(4x)) * log(sqrt(16x^2 + 1) + 4x) - (2/3)) for x in x_values] # Bruker List Comprehension, er det mer lesbart?"
   ]
  },
  {
   "cell_type": "markdown",
   "metadata": {},
   "source": [
    "## Oppgave 3"
   ]
  },
  {
   "cell_type": "code",
   "execution_count": 6,
   "metadata": {},
   "outputs": [
    {
     "data": {
      "text/plain": [
       "6-element Vector{Float64}:\n",
       " 2.0\n",
       " 2.0\n",
       " 2.0\n",
       " 2.0\n",
       " 2.0\n",
       " 2.0"
      ]
     },
     "metadata": {},
     "output_type": "display_data"
    }
   ],
   "source": [
    "\n",
    "theta_vals = [0, π/4, π/2, 3π/4, π, 5π/4]\n",
    "r = 2\n",
    "x_vals = r .* cos.(theta_vals)\n",
    "y_vals = r .* sin.(theta_vals)\n",
    "radii = sqrt.(x_vals.^2 + y_vals.^2)"
   ]
  },
  {
   "cell_type": "markdown",
   "metadata": {},
   "source": [
    "## Oppgave 4"
   ]
  },
  {
   "cell_type": "code",
   "execution_count": 7,
   "metadata": {},
   "outputs": [
    {
     "data": {
      "text/plain": [
       "2.0"
      ]
     },
     "metadata": {},
     "output_type": "display_data"
    }
   ],
   "source": [
    "r = 0.5\n",
    "sum_10 = sum([r^i for i in 0:10])\n",
    "sum_50 = sum([r^i for i in 0:50])\n",
    "sum_100 = sum([r^i for i in 0:100])\n",
    "limit = 1 / (1 - r)"
   ]
  },
  {
   "cell_type": "markdown",
   "metadata": {},
   "source": [
    "## Oppgave 5"
   ]
  },
  {
   "cell_type": "code",
   "execution_count": 8,
   "metadata": {},
   "outputs": [
    {
     "name": "stdout",
     "output_type": "stream",
     "text": [
      "Sum of first 10 even numbers (formula): 110\n",
      "Sum of first 10 even numbers (loop): 30\n",
      "Sum of first 10 odd numbers (formula): 100\n",
      "Sum of first 10 odd numbers (loop): 25\n"
     ]
    },
    {
     "name": "stdout",
     "output_type": "stream",
     "text": [
      "\n",
      "Timing for formulas:\n"
     ]
    },
    {
     "name": "stdout",
     "output_type": "stream",
     "text": [
      "  1.600 ns (0 allocations: 0 bytes)"
     ]
    },
    {
     "name": "stdout",
     "output_type": "stream",
     "text": [
      "\n",
      "  1.500 ns (0 allocations: 0 bytes)\n",
      "\n",
      "Timing for loops:"
     ]
    },
    {
     "name": "stdout",
     "output_type": "stream",
     "text": [
      "\n",
      "  5.400 ns (0 allocations: 0 bytes)\n"
     ]
    },
    {
     "name": "stdout",
     "output_type": "stream",
     "text": [
      "  4.800 ns (0 allocations: 0 bytes)"
     ]
    },
    {
     "data": {
      "text/plain": [
       "25"
      ]
     },
     "metadata": {},
     "output_type": "display_data"
    },
    {
     "name": "stdout",
     "output_type": "stream",
     "text": [
      "\n"
     ]
    }
   ],
   "source": [
    "function even_sum_loop(n)\n",
    "    sum = 0\n",
    "    for i = 1:n\n",
    "        if i % 2 == 0\n",
    "            sum += i\n",
    "        end\n",
    "    end\n",
    "    return sum\n",
    "end\n",
    "\n",
    "function odd_sum_loop(n)\n",
    "    sum = 0\n",
    "    for i = 1:n\n",
    "        if i % 2 != 0\n",
    "            sum += i\n",
    "        end\n",
    "    end\n",
    "    return sum\n",
    "end\n",
    "\n",
    "\n",
    "function even_sum(n)\n",
    "    return n * (n + 1)\n",
    "end\n",
    "\n",
    "function odd_sum(n)\n",
    "    return n^2\n",
    "end\n",
    "\n",
    "# Testing\n",
    "n = 10; \n",
    "\n",
    "println(\"Sum of first $n even numbers (formula): \", even_sum(n))\n",
    "println(\"Sum of first $n even numbers (loop): \", even_sum_loop(n))\n",
    "\n",
    "println(\"Sum of first $n odd numbers (formula): \", odd_sum(n))\n",
    "println(\"Sum of first $n odd numbers (loop): \", odd_sum_loop(n))\n",
    "\n",
    "# Timing\n",
    "using BenchmarkTools # Her kan dere bruke @time istedenfor, jeg foretrekker btime\n",
    "println(\"\\nTiming for formulas:\")\n",
    "@btime even_sum($n)\n",
    "@btime odd_sum($n)\n",
    "\n",
    "println(\"\\nTiming for loops:\")\n",
    "@btime even_sum_loop($n)\n",
    "@btime odd_sum_loop($n)"
   ]
  }
 ],
 "metadata": {
  "kernelspec": {
   "display_name": "Julia 1.9.3",
   "language": "julia",
   "name": "julia-1.9"
  },
  "language_info": {
   "file_extension": ".jl",
   "mimetype": "application/julia",
   "name": "julia",
   "version": "1.9.3"
  },
  "orig_nbformat": 4
 },
 "nbformat": 4,
 "nbformat_minor": 2
}
