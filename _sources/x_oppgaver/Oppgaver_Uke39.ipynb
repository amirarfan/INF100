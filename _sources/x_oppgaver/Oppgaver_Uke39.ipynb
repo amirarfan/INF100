{
 "cells": [
  {
   "cell_type": "markdown",
   "metadata": {},
   "source": [
    "# Oppgaver Uke 39"
   ]
  },
  {
   "cell_type": "markdown",
   "metadata": {},
   "source": [
    "## Oppgave 1 - 2D-Plotting i Julia\n"
   ]
  },
  {
   "cell_type": "markdown",
   "metadata": {},
   "source": [
    "### Del 1: Funksjonsplott\n",
    "\n",
    "1. Plott følgende funksjoner (du må selv velge egnede verdier for x-aksen):\n",
    "   - $( y = \\frac{1}{x} )$ med en blå, stiplet linje. Bruk `plot(x, y, linestyle=:dash, color=:blue)`.\n",
    "   - $( y = \\sin(x) \\cos(x) )$ med en rød, prikket linje. Bruk `plot(x, y, linestyle=:dot, color=:red)`.\n",
    "   - $( y = 2x^2 - 3x + 1 )$ med røde kryss-markører. Bruk `scatter(x, y, marker=:x, color=:red)`.\n",
    "\n",
    "   Aktiver rutenett på alle plottene og husk å merke aksene og sette en tittel.\n",
    "\n",
    "### Del 2: Avansert funksjonsplott\n",
    "\n",
    "2. Gitt funksjonen\n",
    "\n",
    "   $s = a \\cos(\\phi) + \\sqrt{b^2 - (a \\sin(\\phi) - c)^2}$ \n",
    "   \n",
    "\n",
    "\n",
    "   Plott $s$  som en funksjon av vinkelen  $\\phi$  når  $a = 1$, $b = 1.5$, $c = 0.3$ , og  $0 \\leq \\phi \\leq 360^{\\circ}$.\n",
    "\n",
    "### Del 3: Parametriske plott\n",
    "\n",
    "3. Plott følgende parametriske funksjoner (etter plot-kommandoen må du bruke `aspect_ratio=:equal` for å tvinge Julia til å bruke samme lengde på x-aksen og y-aksen):\n",
    "\n",
    "a) En sirkel med radius 5. \n",
    "\n",
    "b) Leminscate \n",
    "\n",
    "$$\n",
    "\\begin{aligned}\n",
    "& x=\\cos (\\phi) \\sqrt{2 \\cos (2 \\phi)} \\\\\n",
    "& y=\\sin (\\phi) \\sqrt{2 \\cos (2 \\phi)}\n",
    "\\end{aligned}\n",
    "$$\n",
    "\n",
    "c) Logaritmisk spiral $(0 \\leq \\phi \\leq 6 \\pi ; k=0.1)$\n",
    "\n",
    "$$\n",
    "\\begin{aligned}\n",
    "& x=e^{k \\phi} \\cos (\\phi) \\\\\n",
    "& y=e^{k \\phi} \\sin (\\phi)\n",
    "\\end{aligned}\n",
    "$$"
   ]
  },
  {
   "cell_type": "markdown",
   "metadata": {},
   "source": [
    "## Oppgave 2 - `if` og `else`"
   ]
  },
  {
   "cell_type": "markdown",
   "metadata": {},
   "source": [
    "Din oppgave er å identifisere hvilken av de følgende fire kodeblokkene som er syntaktisk korrekt. De andre tre har feil."
   ]
  },
  {
   "cell_type": "markdown",
   "metadata": {},
   "source": [
    "## Kodeblokk 1\n",
    "\n",
    "```julia\n",
    "if (x > 5)\n",
    "    println(\"x er større enn 5\")\n",
    "else\n",
    "    println(\"x er ikke større enn 5\")\n",
    "end if\n",
    "```"
   ]
  },
  {
   "cell_type": "markdown",
   "metadata": {},
   "source": [
    "## Kodeblokk 2\n",
    "\n",
    "```julia\n",
    "if x > 5\n",
    "    println(\"x er større enn 5\")\n",
    "else\n",
    "    println(\"x er ikke større enn 5\")\n",
    "end\n",
    "```"
   ]
  },
  {
   "cell_type": "markdown",
   "metadata": {},
   "source": [
    "## Kodeblokk 3\n",
    "\n",
    "```julia\n",
    "if (x > 5)\n",
    "    println(\"x er større enn 5\")\n",
    "elseif\n",
    "    println(\"x er ikke større enn 5\")\n",
    "end\n",
    "```"
   ]
  },
  {
   "cell_type": "markdown",
   "metadata": {},
   "source": [
    "## Kodeblokk 4\n",
    "    \n",
    "```julia\n",
    "if x > 5\n",
    "println(\"x er større enn 5\")\n",
    "else\n",
    "println(\"x er ikke større enn 5\")\n",
    "```"
   ]
  },
  {
   "cell_type": "markdown",
   "metadata": {},
   "source": [
    "# Oppgave 3 - If-else forståelse og funksjoner"
   ]
  },
  {
   "cell_type": "markdown",
   "metadata": {},
   "source": [
    "## 3a - Dager i måneden\n",
    "\n",
    "Lag en funksjon som tar en måned som en streng (f.eks., \"Januar\") og returnerer antall dager i den måneden.\n",
    "\n",
    "Hvis brukeren gir en ugyldig måned, skal funksjonen returnere \"Ugyldig måned\".\n",
    "\n",
    "Bruk `if`-`elseif`-`else`-strukturer for å implementere dette.\n"
   ]
  },
  {
   "cell_type": "markdown",
   "metadata": {},
   "source": [
    "## 3b - Maksimum\n",
    "\n",
    "Lag en funksjon som tar tre tall som argumenter og returnerer det største av de tre tallene.\n",
    "\n",
    "Bruk `if`-`elseif`-`else`-strukturer for å implementere dette."
   ]
  },
  {
   "cell_type": "markdown",
   "metadata": {},
   "source": [
    "## 3c - Rett eller Galt Quiz i Julia\n",
    "\n",
    "Lag et enkelt quiz-spill der brukeren får spørsmål som de må svare \"Rett\" eller \"Galt\" på. Etter å ha svart på alle spørsmålene, skal koden oppsummere hvor mange riktige og gale svar brukeren har gitt.\n",
    "\n",
    "Bruk `if`-`else`-strukturer for å vurdere svarene og telle opp resultatene.\n"
   ]
  },
  {
   "cell_type": "markdown",
   "metadata": {},
   "source": [
    "# Oppgave 4 - Løkker"
   ]
  },
  {
   "cell_type": "markdown",
   "metadata": {},
   "source": [
    "## 4a - Fibonacci-tall \n",
    "\n",
    "Lag et program som skriver ut de første N Fibonacci-tallene ved bruk av en `while`-løkke.\n",
    "\n",
    "Hint: Du kan starte med variablene `a = 0` og `b = 1`.\n"
   ]
  },
  {
   "cell_type": "markdown",
   "metadata": {},
   "source": [
    "## 4b - Utvid \"Gjett-tallet\"-spillt som blir vist i forelesning til å bruke en `while`-løkke, slik at spillet fortsetter til brukeren velger å stoppe.\n",
    "\n",
    "Hint: Du kan bruke en variabel som `fortsett = true` og endre den til `false` når brukeren vil avslutte."
   ]
  },
  {
   "cell_type": "markdown",
   "metadata": {},
   "source": [
    "## 4c - Telle baklengs Oppgave \n",
    "\n",
    "Lag en `for`-løkke som teller baklengs fra N til 1, og skriver ut hvert tall. Legg også til en sjekk som skriver ut \"Blast off!\" når telleverket når 1.\n",
    "\n",
    "For eksempel, hvis N=3, skal utskriften være:\n",
    "\n",
    "```\n",
    "3 \n",
    "2\n",
    "1\n",
    "Blast off!\n",
    "```"
   ]
  }
 ],
 "metadata": {
  "kernelspec": {
   "display_name": "Julia 1.9.3",
   "language": "julia",
   "name": "julia-1.9"
  },
  "language_info": {
   "file_extension": ".jl",
   "mimetype": "application/julia",
   "name": "julia",
   "version": "1.9.3"
  },
  "orig_nbformat": 4
 },
 "nbformat": 4,
 "nbformat_minor": 2
}
