{
 "cells": [
  {
   "cell_type": "markdown",
   "metadata": {},
   "source": [
    "# Oppgaver Uke 38\n"
   ]
  },
  {
   "cell_type": "markdown",
   "metadata": {},
   "source": [
    "## Oppgave 1\n",
    "\n",
    "Lag en vektor `t` som varierer fra 1 til 10 i steg av 1, og en vektor `theta` som varierer fra 0 til $\\pi$ og inneholder 32 elementer. Beregn deretter følgende:\n",
    "\n",
    "$$x = 2 \\sin(θ)$$\n",
    "\n",
    "$$y = \\frac{t-1} {t + 1}$$\n",
    "$$z = \\frac {\\sin(\\theta^2)} {\\theta^2}"
   ]
  },
  {
   "cell_type": "markdown",
   "metadata": {},
   "source": [
    "## Oppgave 2\n",
    "\n",
    "En utslippsfaktor er et forhold som sammenligner massstrømningshastigheten ved enden av en kanal eller dyse med en ideell kanal eller dyse. Utlippsfaktoren for strømning gjennom en åpen kanal med parabolisk tverrsnitt er gitt ved:\n",
    "\n",
    "$$\n",
    "K=\\frac{1.2}{x}\\left[\\sqrt{16 x^2+1}+\\frac{1}{4 x} \\ln \\left(\\sqrt{16 x^2+1}+4 x\\right)\\right]^{-\\frac{2}{3}}\n",
    "$$\n",
    "hvor $x$ er forholdet mellom maksimal vanndybde til bredden av kanalen øverst på vannet. Bestem utslippsfaktorene for $x$ i området 0.45 til 0.90 i trinn av 0.05."
   ]
  },
  {
   "cell_type": "markdown",
   "metadata": {},
   "source": [
    "## Oppgave 3 - Punkter på en sirkel\n",
    "\n",
    "Alle punkter med koordinater $x = r \\cos(\\theta)$ og $y = r sin(θ)$, hvor $r$ er en konstant, ligger på en sirkel med radius $r$, dvs. de tilfredsstiller ligningen $x^2 + y^2 = r^2$. Lag en vektor for $\\theta$ med verdiene $0, \\pi/4, \\pi/2, 3\\pi/4, \\pi, \\text{og} \\, 5\\pi/4$. Ta $r = 2$ og beregn vektorene $x$ og $y$. Sjekk nå at $x$ og $y$ faktisk tilfredsstiller ligningen for en sirkel, ved å beregne radiusen $r = \\sqrt{x^2 + y^2}$."
   ]
  },
  {
   "cell_type": "markdown",
   "metadata": {},
   "source": [
    "## Oppgave 4 - Geometrisk Serie\n",
    "\n",
    "Summen av en geometrisk serie $1 + r + r^2 + r^3 + \\dots + r^n$ nærmer seg grensen $\\frac{1} {1−r}$ for $r < 1$ når $n \\rightarrow \\infty$. Ta $r = 0.5$ og beregn summer av serier 0 til 10, 0 til 50, og 0 til 100. Beregn den nevnte grensen og sammenlign med dine summer. Gjør summeringen ved hjelp av den innebygde sum-funksjonen i Julia."
   ]
  },
  {
   "cell_type": "markdown",
   "metadata": {},
   "source": [
    "Lykke til med å løse disse øvelsene!"
   ]
  },
  {
   "cell_type": "markdown",
   "metadata": {},
   "source": [
    "## Oppgave 5 - Beregning av summen av de første \\( n \\) partallene og oddetallene\n",
    "\n",
    "I denne øvelsen vil du bruke en for-løkke i Julia til å beregne summen av de første \\( n \\) partallene og deretter de første \\( n \\) oddetallene.\n",
    "\n",
    "## Del 1: Partall\n",
    "\n",
    "Ved hjelp av en for-løkke, beregn summen av de første \\( n \\) partallene.\n",
    "\n",
    "## Del 2: Oddetall\n",
    "\n",
    "Bruk en annen for-løkke for å beregne summen av de første \\( n \\) oddetallene.\n",
    "\n",
    "## Formler\n",
    "\n",
    "Etter å ha beregnet summen ved hjelp av for-løkkene, tenk over følgende:\n",
    "\n",
    "For de første \\( n \\) partallene, hva er summen? Kan du komme opp med en formel for denne summen?\n",
    "\n",
    "For de første \\( n \\) oddetallene, hva er summen? Har du en ide om en formel for denne summen?\n",
    "\n",
    "### Løsning\n",
    "\n",
    "<div id=\"solution\" style=\"border: 1px solid black; padding: 10px; display: none;\">\n",
    "Formelen for summen av de første \\( n \\) partallene er:\n",
    "$$ \\sum_{i=1}^{n} 2i = n(n + 1) $$\n",
    "\n",
    "Formelen for summen av de første \\( n \\) oddetallene er:\n",
    "$$ \\sum_{i=1}^{n} (2i-1) = n^2 $$\n",
    "</div>\n",
    "\n",
    "<span id=\"hoverArea\" style=\"border: 1px solid black; padding: 10px; cursor: pointer;\">Pek musen over her for å se løsning på formelene</span>\n",
    "\n",
    "<script>\n",
    "document.getElementById('hoverArea').addEventListener('mouseover', function() {\n",
    "    document.getElementById('solution').style.display = 'block';\n",
    "});\n",
    "document.getElementById('hoverArea').addEventListener('mouseout', function() {\n",
    "    document.getElementById('solution').style.display = 'none';\n",
    "});\n",
    "</script>\n",
    "\n"
   ]
  },
  {
   "cell_type": "markdown",
   "metadata": {},
   "source": []
  }
 ],
 "metadata": {
  "kernelspec": {
   "display_name": "Julia 1.9.3",
   "language": "julia",
   "name": "julia-1.9"
  },
  "language_info": {
   "file_extension": ".jl",
   "mimetype": "application/julia",
   "name": "julia",
   "version": "1.9.3"
  }
 },
 "nbformat": 4,
 "nbformat_minor": 2
}
